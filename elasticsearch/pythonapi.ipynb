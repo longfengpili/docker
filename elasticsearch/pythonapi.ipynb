{
 "cells": [
  {
   "cell_type": "code",
   "execution_count": 1,
   "metadata": {
    "ExecuteTime": {
     "end_time": "2020-06-30T06:42:45.380256Z",
     "start_time": "2020-06-30T06:42:45.271258Z"
    }
   },
   "outputs": [],
   "source": [
    "from datetime import datetime\n",
    "from elasticsearch import Elasticsearch"
   ]
  },
  {
   "cell_type": "code",
   "execution_count": 5,
   "metadata": {
    "ExecuteTime": {
     "end_time": "2020-06-30T06:45:07.319002Z",
     "start_time": "2020-06-30T06:45:07.316002Z"
    }
   },
   "outputs": [],
   "source": [
    "es = Elasticsearch(http_auth=('longfengpili', '123456abc'))"
   ]
  },
  {
   "cell_type": "code",
   "execution_count": 6,
   "metadata": {
    "ExecuteTime": {
     "end_time": "2020-06-30T06:45:11.886026Z",
     "start_time": "2020-06-30T06:45:08.108001Z"
    }
   },
   "outputs": [
    {
     "name": "stdout",
     "output_type": "stream",
     "text": [
      "{'_index': 'testindex', '_type': '_doc', '_id': 'Ix74A3MBeTe8p_zR4dnS', '_version': 1, 'result': 'created', '_shards': {'total': 2, 'successful': 2, 'failed': 0}, '_seq_no': 8, '_primary_term': 12}\n"
     ]
    }
   ],
   "source": [
    "doc = {\n",
    "    'author': 'kimchy',\n",
    "    'text': 'Elasticsearch: cool. bonsai cool.',\n",
    "    'timestamp': datetime.now(),\n",
    "}\n",
    "res = es.index(index=\"testindex\", body=doc)\n",
    "print(res)"
   ]
  },
  {
   "cell_type": "code",
   "execution_count": 7,
   "metadata": {
    "ExecuteTime": {
     "end_time": "2020-06-30T06:45:22.410096Z",
     "start_time": "2020-06-30T06:45:17.439617Z"
    }
   },
   "outputs": [
    {
     "data": {
      "text/plain": [
       "{'_index': 'testindex',\n",
       " '_type': '_doc',\n",
       " '_id': '1',\n",
       " '_version': 1,\n",
       " '_seq_no': 6,\n",
       " '_primary_term': 6,\n",
       " 'found': True,\n",
       " '_source': {'author': 'kimchy',\n",
       "  'text': 'Elasticsearch: cool. bonsai cool.',\n",
       "  'timestamp': '2020-06-30T12:24:42.247968'}}"
      ]
     },
     "execution_count": 7,
     "metadata": {},
     "output_type": "execute_result"
    }
   ],
   "source": [
    "res = es.get(index=\"testindex\", id=1)\n",
    "res"
   ]
  },
  {
   "cell_type": "code",
   "execution_count": 8,
   "metadata": {
    "ExecuteTime": {
     "end_time": "2020-06-30T06:45:28.417030Z",
     "start_time": "2020-06-30T06:45:22.444909Z"
    }
   },
   "outputs": [
    {
     "data": {
      "text/plain": [
       "{'_shards': {'total': 2, 'successful': 2, 'failed': 0}}"
      ]
     },
     "execution_count": 8,
     "metadata": {},
     "output_type": "execute_result"
    },
    {
     "name": "stdout",
     "output_type": "stream",
     "text": [
      "Got 9 Hits:\n",
      "2020-06-30T12:03:10.815570 kimchy: Elasticsearch: cool. bonsai cool.\n",
      "2020-06-30T12:03:13.917912 kimchy: Elasticsearch: cool. bonsai cool.\n",
      "2020-06-30T12:03:13.980912 kimchy: Elasticsearch: cool. bonsai cool.\n",
      "2020-06-30T12:03:15.134989 kimchy: Elasticsearch: cool. bonsai cool.\n",
      "2020-06-30T12:20:18.302529 kimchy: Elasticsearch: cool. bonsai cool.\n",
      "2020-06-30T12:24:18.616562 kimchy: Elasticsearch: cool. bonsai cool.\n",
      "2020-06-30T12:24:42.247968 kimchy: Elasticsearch: cool. bonsai cool.\n",
      "2020-06-30T12:24:47.025358 kimchy: Elasticsearch: cool. bonsai cool.\n",
      "2020-06-30T14:45:08.109001 kimchy: Elasticsearch: cool. bonsai cool.\n"
     ]
    }
   ],
   "source": [
    "es.indices.refresh(index=\"testindex\")\n",
    "res = es.search(index=\"testindex\", body={\"query\": {\"match_all\": {}}})\n",
    "print(\"Got %d Hits:\" % res['hits']['total']['value'])\n",
    "for hit in res['hits']['hits']:\n",
    "    print(\"%(timestamp)s %(author)s: %(text)s\" % hit[\"_source\"])"
   ]
  },
  {
   "cell_type": "code",
   "execution_count": 9,
   "metadata": {
    "ExecuteTime": {
     "end_time": "2020-06-30T06:45:29.656672Z",
     "start_time": "2020-06-30T06:45:28.457032Z"
    }
   },
   "outputs": [
    {
     "data": {
      "text/plain": [
       "{'_shards': {'total': 2, 'successful': 2, 'failed': 0}}"
      ]
     },
     "execution_count": 9,
     "metadata": {},
     "output_type": "execute_result"
    }
   ],
   "source": [
    "es.indices.refresh(index=\"testindex\")"
   ]
  },
  {
   "cell_type": "code",
   "execution_count": 10,
   "metadata": {
    "ExecuteTime": {
     "end_time": "2020-06-30T06:45:36.573741Z",
     "start_time": "2020-06-30T06:45:29.690672Z"
    }
   },
   "outputs": [
    {
     "data": {
      "text/plain": [
       "{'took': 1102,\n",
       " 'timed_out': False,\n",
       " '_shards': {'total': 1, 'successful': 1, 'skipped': 0, 'failed': 0},\n",
       " 'hits': {'total': {'value': 4, 'relation': 'eq'},\n",
       "  'max_score': 0.105360515,\n",
       "  'hits': [{'_index': 'test-index',\n",
       "    '_type': '_doc',\n",
       "    '_id': '1',\n",
       "    '_score': 0.105360515,\n",
       "    '_source': {'author': 'kimchy',\n",
       "     'text': 'Elasticsearch: cool. bonsai cool.',\n",
       "     'timestamp': '2020-06-30T11:37:40.279151'}},\n",
       "   {'_index': 'test-index',\n",
       "    '_type': '_doc',\n",
       "    '_id': 'aMVNA3MB065MxcwPnU1i',\n",
       "    '_score': 0.105360515,\n",
       "    '_source': {'author': 'kimchy',\n",
       "     'text': 'Elasticsearch: cool. bonsai cool.',\n",
       "     'timestamp': '2020-06-30T11:38:04.959435'}},\n",
       "   {'_index': 'test-index',\n",
       "    '_type': '_doc',\n",
       "    '_id': 'acVNA3MB065MxcwPrU2W',\n",
       "    '_score': 0.105360515,\n",
       "    '_source': {'author': 'kimchy',\n",
       "     'text': 'Elasticsearch: cool. bonsai cool.',\n",
       "     'timestamp': '2020-06-30T11:38:09.158673'}},\n",
       "   {'_index': 'test-index',\n",
       "    '_type': '_doc',\n",
       "    '_id': 'asVNA3MB065MxcwPu02T',\n",
       "    '_score': 0.105360515,\n",
       "    '_source': {'author': 'kimchy',\n",
       "     'text': 'Elasticsearch: cool. bonsai cool.',\n",
       "     'timestamp': '2020-06-30T11:38:12.734352'}}]}}"
      ]
     },
     "execution_count": 10,
     "metadata": {},
     "output_type": "execute_result"
    },
    {
     "data": {
      "text/plain": [
       "{'count': 4,\n",
       " '_shards': {'total': 1, 'successful': 1, 'skipped': 0, 'failed': 0}}"
      ]
     },
     "execution_count": 10,
     "metadata": {},
     "output_type": "execute_result"
    }
   ],
   "source": [
    "query = {\n",
    "    \"query\": {\n",
    "        \"match\": {\n",
    "            \"author\": \"kimchy\"\n",
    "        }\n",
    "    }\n",
    "}\n",
    "es.search(index=\"test-index\", body=query)\n",
    "es.count(index=\"test-index\", body=query)"
   ]
  },
  {
   "cell_type": "code",
   "execution_count": 11,
   "metadata": {
    "ExecuteTime": {
     "end_time": "2020-06-30T06:45:45.166151Z",
     "start_time": "2020-06-30T06:45:36.617742Z"
    }
   },
   "outputs": [
    {
     "data": {
      "text/plain": [
       "{'columns': [{'name': 'author', 'type': 'text'},\n",
       "  {'name': 'text', 'type': 'text'},\n",
       "  {'name': 'timestamp', 'type': 'datetime'}],\n",
       " 'rows': [['kimchy',\n",
       "   'Elasticsearch: cool. bonsai cool.',\n",
       "   '2020-06-30T12:03:10.815Z'],\n",
       "  ['kimchy', 'Elasticsearch: cool. bonsai cool.', '2020-06-30T12:03:13.917Z'],\n",
       "  ['kimchy', 'Elasticsearch: cool. bonsai cool.', '2020-06-30T12:03:13.980Z'],\n",
       "  ['kimchy', 'Elasticsearch: cool. bonsai cool.', '2020-06-30T12:03:15.134Z'],\n",
       "  ['kimchy', 'Elasticsearch: cool. bonsai cool.', '2020-06-30T12:20:18.302Z'],\n",
       "  ['kimchy', 'Elasticsearch: cool. bonsai cool.', '2020-06-30T12:24:18.616Z'],\n",
       "  ['kimchy', 'Elasticsearch: cool. bonsai cool.', '2020-06-30T12:24:42.247Z'],\n",
       "  ['kimchy', 'Elasticsearch: cool. bonsai cool.', '2020-06-30T12:24:47.025Z'],\n",
       "  ['kimchy', 'Elasticsearch: cool. bonsai cool.', '2020-06-30T14:45:08.109Z']]}"
      ]
     },
     "execution_count": 11,
     "metadata": {},
     "output_type": "execute_result"
    }
   ],
   "source": [
    "sql = es.sql\n",
    "query = {\n",
    "    \"query\": \"select * from testindex\"\n",
    "}\n",
    "sql.query(body=query)"
   ]
  },
  {
   "cell_type": "code",
   "execution_count": null,
   "metadata": {},
   "outputs": [],
   "source": []
  }
 ],
 "metadata": {
  "hide_input": false,
  "kernelspec": {
   "display_name": "Python 3.7.5 64-bit ('normal': conda)",
   "language": "python",
   "name": "python37564bitnormalconda4753448cc6a44aac9b24f65bfb6fcefd"
  },
  "language_info": {
   "codemirror_mode": {
    "name": "ipython",
    "version": 3
   },
   "file_extension": ".py",
   "mimetype": "text/x-python",
   "name": "python",
   "nbconvert_exporter": "python",
   "pygments_lexer": "ipython3",
   "version": "3.7.5"
  },
  "nbTranslate": {
   "displayLangs": [
    "*"
   ],
   "hotkey": "alt-t",
   "langInMainMenu": true,
   "sourceLang": "en",
   "targetLang": "fr",
   "useGoogleTranslate": true
  },
  "toc": {
   "base_numbering": 1,
   "nav_menu": {},
   "number_sections": true,
   "sideBar": true,
   "skip_h1_title": false,
   "title_cell": "Table of Contents",
   "title_sidebar": "Contents",
   "toc_cell": false,
   "toc_position": {},
   "toc_section_display": true,
   "toc_window_display": false
  },
  "varInspector": {
   "cols": {
    "lenName": 16,
    "lenType": 16,
    "lenVar": 40
   },
   "kernels_config": {
    "python": {
     "delete_cmd_postfix": "",
     "delete_cmd_prefix": "del ",
     "library": "var_list.py",
     "varRefreshCmd": "print(var_dic_list())"
    },
    "r": {
     "delete_cmd_postfix": ") ",
     "delete_cmd_prefix": "rm(",
     "library": "var_list.r",
     "varRefreshCmd": "cat(var_dic_list()) "
    }
   },
   "types_to_exclude": [
    "module",
    "function",
    "builtin_function_or_method",
    "instance",
    "_Feature"
   ],
   "window_display": false
  }
 },
 "nbformat": 4,
 "nbformat_minor": 2
}
